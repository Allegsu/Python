{
 "cells": [
  {
   "cell_type": "code",
   "execution_count": 1,
   "metadata": {},
   "outputs": [],
   "source": [
    "import pandas as pd\n",
    "import nltk\n",
    "import numpy as np\n",
    "from nltk.corpus import stopwords\n",
    "from sklearn.feature_extraction.text import TfidfVectorizer\n",
    "from sklearn.metrics import pairwise_distances\n",
    "from hangul.tokenizer import WordSegmenter\n",
    "from keras.layers import LSTM\n",
    "from keras.saving import register_keras_serializable\n",
    "register_keras_serializable()(LSTM)\n",
    "from konlpy.tag import Okt"
   ]
  },
  {
   "cell_type": "code",
   "execution_count": 2,
   "metadata": {},
   "outputs": [
    {
     "name": "stdout",
     "output_type": "stream",
     "text": [
      "                                            새로운 보금자리 Unnamed: 1 Unnamed: 2  \\\n",
      "0  내가 이사를 오고 나서 여동생이 우리 동생은 서울에 있는 대학에 사는 동네가 우리 ...        NaN        NaN   \n",
      "1  내가 새로 살게된 집은 거실 하나와 방 두 개가 있었고, 앞에는 공영 있었다. 주차...        NaN        NaN   \n",
      "2  새 집에는 곰팡이나 벌레도 없었다. 동네가 조용한 것과 주변에 아름다운 피어있는 것...        NaN        NaN   \n",
      "3  집을 둘러본 동생은 우리의 어린 시절 사진을 보여주겠다며 휴대폰 사진첩을 거기에는 ...        NaN        NaN   \n",
      "4  한 사진 속에서 우리는 패션쇼를 한다며 화려한 색상의 두르고 장난을 치고 우리 가족...        NaN        NaN   \n",
      "\n",
      "  Unnamed: 3 Unnamed: 4 Unnamed: 5  \n",
      "0        NaN        NaN        NaN  \n",
      "1        NaN        NaN        NaN  \n",
      "2        NaN        NaN        NaN  \n",
      "3        NaN        NaN        NaN  \n",
      "4        NaN        NaN        NaN  \n"
     ]
    }
   ],
   "source": [
    "df_hangul = pd.read_fwf(\"korean-story.txt\", header='infer', encoding=\"utf-8\")\n",
    "print(df_hangul.head())"
   ]
  },
  {
   "cell_type": "code",
   "execution_count": 3,
   "metadata": {},
   "outputs": [
    {
     "name": "stdout",
     "output_type": "stream",
     "text": [
      "(18, 6)\n"
     ]
    }
   ],
   "source": [
    "print(df_hangul.shape)"
   ]
  },
  {
   "cell_type": "code",
   "execution_count": 4,
   "metadata": {},
   "outputs": [],
   "source": [
    "kor_t = Okt()"
   ]
  },
  {
   "cell_type": "code",
   "execution_count": 5,
   "metadata": {},
   "outputs": [],
   "source": [
    "korean_docs = [\"새로운 보금자리\",\n",
    "               \"내가 이사를 오고 나서 여동생이 우리 동생은 서울에 있는 대학에 사는 동네가 우리 꽤 멀어서 서로 만나기가 쉽지 않았다\",\n",
    "               \"내가 새로 살게된 집은 거실 하나와 방 두 개가 있었고, 앞에는 공영 있었다\",\n",
    "               \"주차장에 설치된 CCTV가 24시간 작동하고 있기 때문에 이 집은 더 안전하게 느껴졌다\",\n",
    "               \"새 집에는 곰팡이나 벌레도 없었다. 동네가 조용한 것과 주변에 아름다운 피어있는 것도 마음에 들었다\",\n",
    "               \"집을 둘러본 동생은 우리의 어린 시절 사진을 보여주겠다며 휴대폰 사진첩을 거기에는 어렸을 때 엄마가 찍어주신 사진들이 해맑게 웃고 있는 어린 아이들이 무척\"]\n"
   ]
  },
  {
   "cell_type": "code",
   "execution_count": 6,
   "metadata": {},
   "outputs": [
    {
     "name": "stdout",
     "output_type": "stream",
     "text": [
      "Tokens:['내', '가', '이사', '를', '오고', '나서', '여동생', '이', '우리', '동생', '은', '서울', '에', '있는', '대학', '에', '사는', '동네', '가', '우리', '꽤', '멀어서', '서로', '만나기가', '쉽지', '않았다']\n"
     ]
    }
   ],
   "source": [
    "k_tokens = kor_t.morphs(\"내가 이사를 오고 나서 여동생이 우리 동생은 서울에 있는 대학에 사는 동네가 우리 꽤 멀어서 서로 만나기가 쉽지 않았다\")\n",
    "print(f\"Tokens:{k_tokens}\")"
   ]
  }
 ],
 "metadata": {
  "kernelspec": {
   "display_name": "Python 3",
   "language": "python",
   "name": "python3"
  },
  "language_info": {
   "codemirror_mode": {
    "name": "ipython",
    "version": 3
   },
   "file_extension": ".py",
   "mimetype": "text/x-python",
   "name": "python",
   "nbconvert_exporter": "python",
   "pygments_lexer": "ipython3",
   "version": "3.12.6"
  }
 },
 "nbformat": 4,
 "nbformat_minor": 2
}
